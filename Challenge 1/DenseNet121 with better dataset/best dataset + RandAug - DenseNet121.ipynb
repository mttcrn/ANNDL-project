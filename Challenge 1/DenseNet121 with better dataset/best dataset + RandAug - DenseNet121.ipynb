{
 "cells": [
  {
   "cell_type": "markdown",
   "metadata": {
    "id": "nuwVgG3Vbbka"
   },
   "source": [
    "# ANNDL: 1st challenge\n"
   ]
  },
  {
   "cell_type": "markdown",
   "metadata": {
    "id": "d7IqZP5Iblna"
   },
   "source": [
    "## ⚙️ Import Libraries\n",
    "Import the libraries needed for the project and fix the seed for repeatability."
   ]
  },
  {
   "cell_type": "code",
   "execution_count": 1,
   "metadata": {
    "colab": {
     "background_save": true,
     "base_uri": "https://localhost:8080/"
    },
    "id": "CO6_Ft_8T56A"
   },
   "outputs": [],
   "source": [
    "import numpy as np\n",
    "import random\n",
    "\n",
    "import gc #garbage collector\n",
    "import tensorflow as tf\n",
    "from tensorflow import keras as tfk\n",
    "from tensorflow.keras import layers as tfkl\n",
    "\n",
    "import pandas as pd\n",
    "from sklearn.model_selection import train_test_split, KFold\n",
    "from sklearn.metrics import accuracy_score, confusion_matrix, precision_score, recall_score, f1_score\n",
    "\n",
    "import seaborn as sns\n",
    "import matplotlib as mpl\n",
    "import matplotlib.pyplot as plt\n",
    "\n",
    "seed = 42\n",
    "input_img_size = 96\n",
    "\n",
    "np.random.seed(seed)\n",
    "tf.random.set_seed(seed)"
   ]
  },
  {
   "cell_type": "markdown",
   "metadata": {
    "id": "GN_cpHlSboXV"
   },
   "source": [
    "## ⏳ Load the Data\n",
    "\n",
    "The data are loaded from the filtered, pre-processed data. For more details, see '''Preprocessing.ipynb''' notebook."
   ]
  },
  {
   "cell_type": "code",
   "execution_count": 2,
   "metadata": {
    "colab": {
     "background_save": true,
     "base_uri": "https://localhost:8080/"
    },
    "id": "pLaoDaG1V1Yg"
   },
   "outputs": [],
   "source": [
    "filtered_dataset_path = '../Preprocessing/balanced_dataset.npz'\n",
    "data = np.load(filtered_dataset_path)\n",
    "N = int(len(data['images']) * 0.75)\n",
    "X_train = data['images'][:N]\n",
    "y_train = data['labels'][:N]\n",
    "\n",
    "\n",
    "# Define a mapping of labels to their corresponding digit names\n",
    "labels = {0:'Basophil', 1:'Eosinophil', 2:'Erythroblast', 3:'Immature granulocytes', 4:'Lymphocyte', 5:'Monocyte', 6:'Neutrophil', 7:'Platelet'}\n",
    "\n",
    "# Save unique labels\n",
    "unique_labels = list(labels.values())"
   ]
  },
  {
   "cell_type": "code",
   "execution_count": 3,
   "metadata": {},
   "outputs": [
    {
     "name": "stdout",
     "output_type": "stream",
     "text": [
      "Training data shape: (9786, 96, 96, 3), Validation data shape: (4194, 96, 96, 3)\n",
      "Training labels shape: (9786, 8), Validation labels shape: (4194, 8)\n"
     ]
    }
   ],
   "source": [
    "# Normalize the data to the range [0, 1] and encode output labels\n",
    "X_train = (X_train / 255).astype('float32')\n",
    "y_train = tfk.utils.to_categorical(y_train, num_classes=len(unique_labels))\n",
    "\n",
    "# Split data into training and validation sets\n",
    "X_train, X_val, y_train, y_val = train_test_split(X_train, y_train, test_size=0.3, random_state=seed, stratify=y_train)\n",
    "print(f'Training data shape: {X_train.shape}, Validation data shape: {X_val.shape}')\n",
    "print(f'Training labels shape: {y_train.shape}, Validation labels shape: {y_val.shape}')"
   ]
  },
  {
   "cell_type": "markdown",
   "metadata": {
    "id": "oPzBQgMBo4SC"
   },
   "source": [
    "## 🔆 Augmenting the training and validation set\n",
    "We use AutoContrast and RandomSaturation from the keras library for the training set. It enhances contrast adaptively and may help in highlighting subtle differences between cell types without altering structure. \n",
    "We added the agumented images to the training set & we applied some rotation, zoom and shift.\n",
    "\n",
    "We use RandAugment for the validation set. "
   ]
  },
  {
   "cell_type": "code",
   "execution_count": 4,
   "metadata": {
    "colab": {
     "background_save": true,
     "base_uri": "https://localhost:8080/"
    },
    "collapsed": true,
    "id": "GRzF4ltipAY7"
   },
   "outputs": [
    {
     "name": "stderr",
     "output_type": "stream",
     "text": [
      "c:\\Users\\motti\\Documents\\ANNDL\\.venv\\Lib\\site-packages\\tqdm\\auto.py:21: TqdmWarning: IProgress not found. Please update jupyter and ipywidgets. See https://ipywidgets.readthedocs.io/en/stable/user_install.html\n",
      "  from .autonotebook import tqdm as notebook_tqdm\n"
     ]
    }
   ],
   "source": [
    "# Import keras\n",
    "import keras_cv as kcv"
   ]
  },
  {
   "cell_type": "code",
   "execution_count": 5,
   "metadata": {},
   "outputs": [],
   "source": [
    "# Implement AutoContrast\n",
    "value_range = [0, 1]\n",
    "autocontrast = kcv.layers.AutoContrast(value_range)\n",
    "contrast_result = autocontrast({'images': X_train, 'labels': y_train})"
   ]
  },
  {
   "cell_type": "code",
   "execution_count": 6,
   "metadata": {},
   "outputs": [],
   "source": [
    "# Implement RandomSaturation\n",
    "factor = [0, 1]\n",
    "randomsaturation = kcv.layers.RandomSaturation(factor, seed=seed)\n",
    "saturation_result = randomsaturation({'images': X_train, 'labels': y_train})"
   ]
  },
  {
   "cell_type": "code",
   "execution_count": 7,
   "metadata": {},
   "outputs": [],
   "source": [
    "# Implement Solarization\n",
    "value_range = [0, 1]\n",
    "solar = kcv.layers.Solarization(value_range)\n",
    "sol_result = solar({'images': X_train, 'labels': y_train})"
   ]
  },
  {
   "cell_type": "code",
   "execution_count": 8,
   "metadata": {},
   "outputs": [],
   "source": [
    "# Implement CutOut\n",
    "cutout_layer = kcv.layers.RandomCutout(height_factor=0.5, width_factor=0.5, seed=seed)\n",
    "cutout_result = cutout_layer({'images': X_train, 'labels': y_train})"
   ]
  },
  {
   "cell_type": "code",
   "execution_count": 9,
   "metadata": {},
   "outputs": [
    {
     "data": {
      "text/plain": [
       "0"
      ]
     },
     "execution_count": 9,
     "metadata": {},
     "output_type": "execute_result"
    }
   ],
   "source": [
    "X_train = np.concatenate((X_train, contrast_result[\"images\"]), axis=0)\n",
    "y_train = np.concatenate((y_train, contrast_result[\"labels\"]), axis=0)\n",
    "\n",
    "del contrast_result\n",
    "gc.collect()\n",
    "\n",
    "X_train = np.concatenate((X_train, saturation_result[\"images\"]), axis=0)\n",
    "y_train = np.concatenate((y_train, saturation_result[\"labels\"]), axis=0)\n",
    "\n",
    "del saturation_result\n",
    "gc.collect() \n",
    "\n",
    "X_train = np.concatenate((X_train, cutout_result[\"images\"]), axis=0)\n",
    "y_train = np.concatenate((y_train, cutout_result[\"labels\"]), axis=0)\n",
    "\n",
    "del cutout_result\n",
    "gc.collect()\n",
    "\n",
    "X_train = np.concatenate((X_train, sol_result[\"images\"]), axis=0)\n",
    "y_train = np.concatenate((y_train, sol_result[\"labels\"]), axis=0)\n",
    "\n",
    "del sol_result\n",
    "gc.collect()"
   ]
  },
  {
   "cell_type": "code",
   "execution_count": 10,
   "metadata": {},
   "outputs": [
    {
     "name": "stdout",
     "output_type": "stream",
     "text": [
      "train_agumented shape: (48930, 96, 96, 3)\n",
      "y_train shape: (48930, 8)\n"
     ]
    }
   ],
   "source": [
    "# Augmenting training set\n",
    "randaugment = kcv.layers.RandAugment(value_range=(0,1), augmentations_per_image=3, magnitude=0.3)\n",
    "train_augmented = randaugment(X_train)\n",
    "print(\"train_agumented shape:\", train_augmented.shape)\n",
    "print(\"y_train shape:\", y_train.shape)"
   ]
  },
  {
   "cell_type": "code",
   "execution_count": 11,
   "metadata": {},
   "outputs": [
    {
     "name": "stdout",
     "output_type": "stream",
     "text": [
      "val_agumented shape: (4194, 96, 96, 3)\n",
      "y_val shape: (4194, 8)\n"
     ]
    }
   ],
   "source": [
    "# Augmenting validation set\n",
    "randaugment = kcv.layers.RandAugment(value_range=(0,1), augmentations_per_image=3, magnitude=0.3)\n",
    "val_augmented = randaugment(X_val)\n",
    "print(\"val_agumented shape:\", val_augmented.shape)\n",
    "print(\"y_val shape:\", y_val.shape)"
   ]
  },
  {
   "cell_type": "code",
   "execution_count": 12,
   "metadata": {},
   "outputs": [],
   "source": [
    "from tensorflow.keras.preprocessing.image import ImageDataGenerator\n",
    "\n",
    "datagen = ImageDataGenerator(\n",
    "    rotation_range=20,         # Equivalent to RandomRotation\n",
    "    width_shift_range=0.2,     # Equivalent to RandomTranslation on x-axis\n",
    "    height_shift_range=0.2,    # Equivalent to RandomTranslation on y-axis\n",
    "    zoom_range=0.2,            # Equivalent to RandomZoom\n",
    "    horizontal_flip=True,      # Equivalent to RandomFlip (horizontal)\n",
    "    vertical_flip=True         # Equivalent to RandomFlip (vertical)\n",
    ")\n",
    "\n",
    "train_generator = datagen.flow(train_augmented, y_train)"
   ]
  },
  {
   "cell_type": "code",
   "execution_count": 13,
   "metadata": {},
   "outputs": [],
   "source": [
    "# Save in .zip file training and validation set\n",
    "np.savez_compressed('last_dataset', images_t=X_train, labels_t=y_train, images_v = val_augmented, labels_v = y_val)"
   ]
  },
  {
   "cell_type": "markdown",
   "metadata": {},
   "source": [
    "## Transfer Learning"
   ]
  },
  {
   "cell_type": "code",
   "execution_count": 14,
   "metadata": {},
   "outputs": [],
   "source": [
    "# Initialise densenet model with pretrained weights, for transfer learning\n",
    "dense = tfk.applications.densenet.DenseNet121(\n",
    "    input_shape=(96, 96, 3),\n",
    "    include_top=False,\n",
    "    weights='imagenet',\n",
    "    pooling=None,\n",
    "    classifier_activation='softmax'\n",
    ")\n",
    "\n",
    "# Display a summary of the model architecture\n",
    "# dense.summary(expand_nested=True)"
   ]
  },
  {
   "cell_type": "code",
   "execution_count": 15,
   "metadata": {},
   "outputs": [],
   "source": [
    "# Freeze all layers in DenseNet to use it solely as a feature extractor\n",
    "dense.trainable = False\n",
    "\n",
    "# Define input layer with shape matching the input images\n",
    "inputs = tfk.Input(shape=(96, 96, 3), name='input_layer')\n",
    "\n",
    "# Preprocess inputs for DenseNet\n",
    "x = tfk.applications.densenet.preprocess_input(inputs)\n",
    "\n",
    "# Pass inputs through the feature extractor\n",
    "x = dense(inputs)\n",
    "\n",
    "# Add a Global Average Pooling layer to flatten the spatial dimensions\n",
    "x = tfkl.GlobalAveragePooling2D(name='global_avg_pool')(x)\n",
    "\n",
    "# Add a dropout layer for regularisation\n",
    "x = tfkl.Dropout(0.5, name='dropout')(x)\n",
    "\n",
    "# Add final Dense layer for classification with L2 regularization\n",
    "outputs = tfkl.Dense(8, activation='softmax', kernel_regularizer=tfk.regularizers.l2(0.001), name='output_reg_l2')(x)\n",
    "\n",
    "# Define the complete model linking input and output\n",
    "tl_model = tfk.Model(inputs=inputs, outputs=outputs, name='model')\n",
    "\n",
    "# Compile the model with categorical cross-entropy loss and AdamW optimiser\n",
    "optimizer = tfk.optimizers.AdamW()\n",
    "tl_model.compile(loss=tfk.losses.CategoricalCrossentropy(), optimizer=optimizer, metrics=['accuracy'])\n",
    "\n",
    "# Display a summary of the model architecture\n",
    "# tl_model.summary(expand_nested=True)"
   ]
  },
  {
   "cell_type": "code",
   "execution_count": 16,
   "metadata": {},
   "outputs": [],
   "source": [
    "# Early stopping to stop the training when val_accuracy stop to increase\n",
    "early_stopping = tfk.callbacks.EarlyStopping(\n",
    "    monitor='val_accuracy',\n",
    "    mode='max',\n",
    "    patience=3,\n",
    "    restore_best_weights=True\n",
    ")\n",
    "\n",
    "# Reduce LR when val_loss stop to decrease to avoid local minumum\n",
    "reduce_lr_on_plateau = tfk.callbacks.ReduceLROnPlateau(\n",
    "    monitor='val_loss',\n",
    "    factor=0.7,\n",
    "    patience=2\n",
    ")\n",
    "\n",
    "# ModelCheckpoint save the best weights along the training \n",
    "checkpoint = tfk.callbacks.ModelCheckpoint(\n",
    "    filepath='best_model.keras',  \n",
    "    monitor='val_loss',        \n",
    "    save_best_only=True        \n",
    ")\n",
    "\n",
    "callbacks = [early_stopping, reduce_lr_on_plateau, checkpoint]"
   ]
  },
  {
   "cell_type": "code",
   "execution_count": 17,
   "metadata": {},
   "outputs": [
    {
     "name": "stderr",
     "output_type": "stream",
     "text": [
      "c:\\Users\\motti\\Documents\\ANNDL\\.venv\\Lib\\site-packages\\keras\\src\\trainers\\data_adapters\\py_dataset_adapter.py:121: UserWarning: Your `PyDataset` class should call `super().__init__(**kwargs)` in its constructor. `**kwargs` can include `workers`, `use_multiprocessing`, `max_queue_size`. Do not pass these arguments to `fit()`, as they will be ignored.\n",
      "  self._warn_if_super_not_called()\n"
     ]
    },
    {
     "name": "stdout",
     "output_type": "stream",
     "text": [
      "Epoch 1/10\n",
      "\u001b[1m1530/1530\u001b[0m \u001b[32m━━━━━━━━━━━━━━━━━━━━\u001b[0m\u001b[37m\u001b[0m \u001b[1m539s\u001b[0m 346ms/step - accuracy: 0.4040 - loss: 2.0168 - val_accuracy: 0.6855 - val_loss: 0.9661 - learning_rate: 0.0010\n",
      "Epoch 2/10\n",
      "\u001b[1m1530/1530\u001b[0m \u001b[32m━━━━━━━━━━━━━━━━━━━━\u001b[0m\u001b[37m\u001b[0m \u001b[1m492s\u001b[0m 322ms/step - accuracy: 0.5318 - loss: 1.3485 - val_accuracy: 0.6693 - val_loss: 0.9584 - learning_rate: 0.0010\n",
      "Epoch 3/10\n",
      "\u001b[1m1530/1530\u001b[0m \u001b[32m━━━━━━━━━━━━━━━━━━━━\u001b[0m\u001b[37m\u001b[0m \u001b[1m433s\u001b[0m 283ms/step - accuracy: 0.5421 - loss: 1.3280 - val_accuracy: 0.6767 - val_loss: 0.9723 - learning_rate: 0.0010\n",
      "Epoch 4/10\n",
      "\u001b[1m1530/1530\u001b[0m \u001b[32m━━━━━━━━━━━━━━━━━━━━\u001b[0m\u001b[37m\u001b[0m \u001b[1m434s\u001b[0m 284ms/step - accuracy: 0.5421 - loss: 1.3259 - val_accuracy: 0.6819 - val_loss: 0.9466 - learning_rate: 0.0010\n",
      "Final validation accuracy: 68.55%\n"
     ]
    }
   ],
   "source": [
    "# Train the model\n",
    "tl_history = tl_model.fit(\n",
    "    train_generator,\n",
    "    batch_size=64,\n",
    "    epochs=10,\n",
    "    validation_data=(val_augmented, y_val),\n",
    "    callbacks=callbacks\n",
    ").history\n",
    "\n",
    "# Calculate and print the best validation accuracy achieved\n",
    "final_val_accuracy = round(max(tl_history['val_accuracy']) * 100, 2)\n",
    "print(f'Final validation accuracy: {final_val_accuracy}%')\n",
    "\n",
    "# Save the trained model to a file, including final accuracy in the filename\n",
    "model_filename = 'TL_dense_' + str(final_val_accuracy) + '.keras'\n",
    "tl_model.save(model_filename)\n",
    "\n",
    "# Free memory by deleting the model instance\n",
    "del tl_model"
   ]
  },
  {
   "cell_type": "markdown",
   "metadata": {},
   "source": [
    "## Fine Tuning"
   ]
  },
  {
   "cell_type": "code",
   "execution_count": 18,
   "metadata": {},
   "outputs": [],
   "source": [
    "# Re-load the best model after transfer learning\n",
    "ft_model = tfk.models.load_model(\"best_model.keras\")"
   ]
  },
  {
   "cell_type": "code",
   "execution_count": 19,
   "metadata": {},
   "outputs": [
    {
     "name": "stdout",
     "output_type": "stream",
     "text": [
      "2 conv1_conv Conv2D True\n",
      "9 conv2_block1_1_conv Conv2D True\n",
      "12 conv2_block1_2_conv Conv2D True\n",
      "16 conv2_block2_1_conv Conv2D True\n",
      "19 conv2_block2_2_conv Conv2D True\n",
      "23 conv2_block3_1_conv Conv2D True\n",
      "26 conv2_block3_2_conv Conv2D True\n",
      "30 conv2_block4_1_conv Conv2D True\n",
      "33 conv2_block4_2_conv Conv2D True\n",
      "37 conv2_block5_1_conv Conv2D True\n",
      "40 conv2_block5_2_conv Conv2D True\n",
      "44 conv2_block6_1_conv Conv2D True\n",
      "47 conv2_block6_2_conv Conv2D True\n",
      "51 pool2_conv Conv2D True\n",
      "55 conv3_block1_1_conv Conv2D True\n",
      "58 conv3_block1_2_conv Conv2D True\n",
      "62 conv3_block2_1_conv Conv2D True\n",
      "65 conv3_block2_2_conv Conv2D True\n",
      "69 conv3_block3_1_conv Conv2D True\n",
      "72 conv3_block3_2_conv Conv2D True\n",
      "76 conv3_block4_1_conv Conv2D True\n",
      "79 conv3_block4_2_conv Conv2D True\n",
      "83 conv3_block5_1_conv Conv2D True\n",
      "86 conv3_block5_2_conv Conv2D True\n",
      "90 conv3_block6_1_conv Conv2D True\n",
      "93 conv3_block6_2_conv Conv2D True\n",
      "97 conv3_block7_1_conv Conv2D True\n",
      "100 conv3_block7_2_conv Conv2D True\n",
      "104 conv3_block8_1_conv Conv2D True\n",
      "107 conv3_block8_2_conv Conv2D True\n",
      "111 conv3_block9_1_conv Conv2D True\n",
      "114 conv3_block9_2_conv Conv2D True\n",
      "118 conv3_block10_1_conv Conv2D True\n",
      "121 conv3_block10_2_conv Conv2D True\n",
      "125 conv3_block11_1_conv Conv2D True\n",
      "128 conv3_block11_2_conv Conv2D True\n",
      "132 conv3_block12_1_conv Conv2D True\n",
      "135 conv3_block12_2_conv Conv2D True\n",
      "139 pool3_conv Conv2D True\n",
      "143 conv4_block1_1_conv Conv2D True\n",
      "146 conv4_block1_2_conv Conv2D True\n",
      "150 conv4_block2_1_conv Conv2D True\n",
      "153 conv4_block2_2_conv Conv2D True\n",
      "157 conv4_block3_1_conv Conv2D True\n",
      "160 conv4_block3_2_conv Conv2D True\n",
      "164 conv4_block4_1_conv Conv2D True\n",
      "167 conv4_block4_2_conv Conv2D True\n",
      "171 conv4_block5_1_conv Conv2D True\n",
      "174 conv4_block5_2_conv Conv2D True\n",
      "178 conv4_block6_1_conv Conv2D True\n",
      "181 conv4_block6_2_conv Conv2D True\n",
      "185 conv4_block7_1_conv Conv2D True\n",
      "188 conv4_block7_2_conv Conv2D True\n",
      "192 conv4_block8_1_conv Conv2D True\n",
      "195 conv4_block8_2_conv Conv2D True\n",
      "199 conv4_block9_1_conv Conv2D True\n",
      "202 conv4_block9_2_conv Conv2D True\n",
      "206 conv4_block10_1_conv Conv2D True\n",
      "209 conv4_block10_2_conv Conv2D True\n",
      "213 conv4_block11_1_conv Conv2D True\n",
      "216 conv4_block11_2_conv Conv2D True\n",
      "220 conv4_block12_1_conv Conv2D True\n",
      "223 conv4_block12_2_conv Conv2D True\n",
      "227 conv4_block13_1_conv Conv2D True\n",
      "230 conv4_block13_2_conv Conv2D True\n",
      "234 conv4_block14_1_conv Conv2D True\n",
      "237 conv4_block14_2_conv Conv2D True\n",
      "241 conv4_block15_1_conv Conv2D True\n",
      "244 conv4_block15_2_conv Conv2D True\n",
      "248 conv4_block16_1_conv Conv2D True\n",
      "251 conv4_block16_2_conv Conv2D True\n",
      "255 conv4_block17_1_conv Conv2D True\n",
      "258 conv4_block17_2_conv Conv2D True\n",
      "262 conv4_block18_1_conv Conv2D True\n",
      "265 conv4_block18_2_conv Conv2D True\n",
      "269 conv4_block19_1_conv Conv2D True\n",
      "272 conv4_block19_2_conv Conv2D True\n",
      "276 conv4_block20_1_conv Conv2D True\n",
      "279 conv4_block20_2_conv Conv2D True\n",
      "283 conv4_block21_1_conv Conv2D True\n",
      "286 conv4_block21_2_conv Conv2D True\n",
      "290 conv4_block22_1_conv Conv2D True\n",
      "293 conv4_block22_2_conv Conv2D True\n",
      "297 conv4_block23_1_conv Conv2D True\n",
      "300 conv4_block23_2_conv Conv2D True\n",
      "304 conv4_block24_1_conv Conv2D True\n",
      "307 conv4_block24_2_conv Conv2D True\n",
      "311 pool4_conv Conv2D True\n",
      "315 conv5_block1_1_conv Conv2D True\n",
      "318 conv5_block1_2_conv Conv2D True\n",
      "322 conv5_block2_1_conv Conv2D True\n",
      "325 conv5_block2_2_conv Conv2D True\n",
      "329 conv5_block3_1_conv Conv2D True\n",
      "332 conv5_block3_2_conv Conv2D True\n",
      "336 conv5_block4_1_conv Conv2D True\n",
      "339 conv5_block4_2_conv Conv2D True\n",
      "343 conv5_block5_1_conv Conv2D True\n",
      "346 conv5_block5_2_conv Conv2D True\n",
      "350 conv5_block6_1_conv Conv2D True\n",
      "353 conv5_block6_2_conv Conv2D True\n",
      "357 conv5_block7_1_conv Conv2D True\n",
      "360 conv5_block7_2_conv Conv2D True\n",
      "364 conv5_block8_1_conv Conv2D True\n",
      "367 conv5_block8_2_conv Conv2D True\n",
      "371 conv5_block9_1_conv Conv2D True\n",
      "374 conv5_block9_2_conv Conv2D True\n",
      "378 conv5_block10_1_conv Conv2D True\n",
      "381 conv5_block10_2_conv Conv2D True\n",
      "385 conv5_block11_1_conv Conv2D True\n",
      "388 conv5_block11_2_conv Conv2D True\n",
      "392 conv5_block12_1_conv Conv2D True\n",
      "395 conv5_block12_2_conv Conv2D True\n",
      "399 conv5_block13_1_conv Conv2D True\n",
      "402 conv5_block13_2_conv Conv2D True\n",
      "406 conv5_block14_1_conv Conv2D True\n",
      "409 conv5_block14_2_conv Conv2D True\n",
      "413 conv5_block15_1_conv Conv2D True\n",
      "416 conv5_block15_2_conv Conv2D True\n",
      "420 conv5_block16_1_conv Conv2D True\n",
      "423 conv5_block16_2_conv Conv2D True\n"
     ]
    }
   ],
   "source": [
    "ft_model.get_layer('densenet121').trainable = True\n",
    "\n",
    "# Set all DenseNet121 layers as non-trainable\n",
    "for layer in ft_model.get_layer('densenet121').layers:\n",
    "    layer.trainable = False\n",
    "\n",
    "# Enable training only for Conv2D layers\n",
    "for i, layer in enumerate(ft_model.get_layer('densenet121').layers):\n",
    "    if isinstance(layer, tf.keras.layers.Conv2D):\n",
    "        layer.trainable = True\n",
    "        print(i, layer.name, type(layer).__name__, layer.trainable)"
   ]
  },
  {
   "cell_type": "code",
   "execution_count": 20,
   "metadata": {},
   "outputs": [
    {
     "name": "stdout",
     "output_type": "stream",
     "text": [
      "0 input_layer False\n",
      "1 zero_padding2d False\n",
      "2 conv1_conv False\n",
      "3 conv1_bn False\n",
      "4 conv1_relu False\n",
      "5 zero_padding2d_1 False\n",
      "6 pool1 False\n",
      "7 conv2_block1_0_bn False\n",
      "8 conv2_block1_0_relu False\n",
      "9 conv2_block1_1_conv False\n",
      "10 conv2_block1_1_bn False\n",
      "11 conv2_block1_1_relu False\n",
      "12 conv2_block1_2_conv False\n",
      "13 conv2_block1_concat False\n",
      "14 conv2_block2_0_bn False\n",
      "15 conv2_block2_0_relu False\n",
      "16 conv2_block2_1_conv False\n",
      "17 conv2_block2_1_bn False\n",
      "18 conv2_block2_1_relu False\n",
      "19 conv2_block2_2_conv False\n",
      "20 conv2_block2_concat False\n",
      "21 conv2_block3_0_bn False\n",
      "22 conv2_block3_0_relu False\n",
      "23 conv2_block3_1_conv False\n",
      "24 conv2_block3_1_bn False\n",
      "25 conv2_block3_1_relu False\n",
      "26 conv2_block3_2_conv False\n",
      "27 conv2_block3_concat False\n",
      "28 conv2_block4_0_bn False\n",
      "29 conv2_block4_0_relu False\n",
      "30 conv2_block4_1_conv False\n",
      "31 conv2_block4_1_bn False\n",
      "32 conv2_block4_1_relu False\n",
      "33 conv2_block4_2_conv False\n",
      "34 conv2_block4_concat False\n",
      "35 conv2_block5_0_bn False\n",
      "36 conv2_block5_0_relu False\n",
      "37 conv2_block5_1_conv False\n",
      "38 conv2_block5_1_bn False\n",
      "39 conv2_block5_1_relu False\n",
      "40 conv2_block5_2_conv False\n",
      "41 conv2_block5_concat False\n",
      "42 conv2_block6_0_bn False\n",
      "43 conv2_block6_0_relu False\n",
      "44 conv2_block6_1_conv False\n",
      "45 conv2_block6_1_bn False\n",
      "46 conv2_block6_1_relu False\n",
      "47 conv2_block6_2_conv False\n",
      "48 conv2_block6_concat False\n",
      "49 pool2_bn False\n",
      "50 pool2_relu False\n",
      "51 pool2_conv False\n",
      "52 pool2_pool False\n",
      "53 conv3_block1_0_bn False\n",
      "54 conv3_block1_0_relu False\n",
      "55 conv3_block1_1_conv False\n",
      "56 conv3_block1_1_bn False\n",
      "57 conv3_block1_1_relu False\n",
      "58 conv3_block1_2_conv False\n",
      "59 conv3_block1_concat False\n",
      "60 conv3_block2_0_bn False\n",
      "61 conv3_block2_0_relu False\n",
      "62 conv3_block2_1_conv False\n",
      "63 conv3_block2_1_bn False\n",
      "64 conv3_block2_1_relu False\n",
      "65 conv3_block2_2_conv False\n",
      "66 conv3_block2_concat False\n",
      "67 conv3_block3_0_bn False\n",
      "68 conv3_block3_0_relu False\n",
      "69 conv3_block3_1_conv False\n",
      "70 conv3_block3_1_bn False\n",
      "71 conv3_block3_1_relu False\n",
      "72 conv3_block3_2_conv False\n",
      "73 conv3_block3_concat False\n",
      "74 conv3_block4_0_bn False\n",
      "75 conv3_block4_0_relu False\n",
      "76 conv3_block4_1_conv False\n",
      "77 conv3_block4_1_bn False\n",
      "78 conv3_block4_1_relu False\n",
      "79 conv3_block4_2_conv False\n",
      "80 conv3_block4_concat False\n",
      "81 conv3_block5_0_bn False\n",
      "82 conv3_block5_0_relu False\n",
      "83 conv3_block5_1_conv False\n",
      "84 conv3_block5_1_bn False\n",
      "85 conv3_block5_1_relu False\n",
      "86 conv3_block5_2_conv False\n",
      "87 conv3_block5_concat False\n",
      "88 conv3_block6_0_bn False\n",
      "89 conv3_block6_0_relu False\n",
      "90 conv3_block6_1_conv False\n",
      "91 conv3_block6_1_bn False\n",
      "92 conv3_block6_1_relu False\n",
      "93 conv3_block6_2_conv False\n",
      "94 conv3_block6_concat False\n",
      "95 conv3_block7_0_bn False\n",
      "96 conv3_block7_0_relu False\n",
      "97 conv3_block7_1_conv False\n",
      "98 conv3_block7_1_bn False\n",
      "99 conv3_block7_1_relu False\n",
      "100 conv3_block7_2_conv True\n",
      "101 conv3_block7_concat False\n",
      "102 conv3_block8_0_bn False\n",
      "103 conv3_block8_0_relu False\n",
      "104 conv3_block8_1_conv True\n",
      "105 conv3_block8_1_bn False\n",
      "106 conv3_block8_1_relu False\n",
      "107 conv3_block8_2_conv True\n",
      "108 conv3_block8_concat False\n",
      "109 conv3_block9_0_bn False\n",
      "110 conv3_block9_0_relu False\n",
      "111 conv3_block9_1_conv True\n",
      "112 conv3_block9_1_bn False\n",
      "113 conv3_block9_1_relu False\n",
      "114 conv3_block9_2_conv True\n",
      "115 conv3_block9_concat False\n",
      "116 conv3_block10_0_bn False\n",
      "117 conv3_block10_0_relu False\n",
      "118 conv3_block10_1_conv True\n",
      "119 conv3_block10_1_bn False\n",
      "120 conv3_block10_1_relu False\n",
      "121 conv3_block10_2_conv True\n",
      "122 conv3_block10_concat False\n",
      "123 conv3_block11_0_bn False\n",
      "124 conv3_block11_0_relu False\n",
      "125 conv3_block11_1_conv True\n",
      "126 conv3_block11_1_bn False\n",
      "127 conv3_block11_1_relu False\n",
      "128 conv3_block11_2_conv True\n",
      "129 conv3_block11_concat False\n",
      "130 conv3_block12_0_bn False\n",
      "131 conv3_block12_0_relu False\n",
      "132 conv3_block12_1_conv True\n",
      "133 conv3_block12_1_bn False\n",
      "134 conv3_block12_1_relu False\n",
      "135 conv3_block12_2_conv True\n",
      "136 conv3_block12_concat False\n",
      "137 pool3_bn False\n",
      "138 pool3_relu False\n",
      "139 pool3_conv True\n",
      "140 pool3_pool False\n",
      "141 conv4_block1_0_bn False\n",
      "142 conv4_block1_0_relu False\n",
      "143 conv4_block1_1_conv True\n",
      "144 conv4_block1_1_bn False\n",
      "145 conv4_block1_1_relu False\n",
      "146 conv4_block1_2_conv True\n",
      "147 conv4_block1_concat False\n",
      "148 conv4_block2_0_bn False\n",
      "149 conv4_block2_0_relu False\n",
      "150 conv4_block2_1_conv True\n",
      "151 conv4_block2_1_bn False\n",
      "152 conv4_block2_1_relu False\n",
      "153 conv4_block2_2_conv True\n",
      "154 conv4_block2_concat False\n",
      "155 conv4_block3_0_bn False\n",
      "156 conv4_block3_0_relu False\n",
      "157 conv4_block3_1_conv True\n",
      "158 conv4_block3_1_bn False\n",
      "159 conv4_block3_1_relu False\n",
      "160 conv4_block3_2_conv True\n",
      "161 conv4_block3_concat False\n",
      "162 conv4_block4_0_bn False\n",
      "163 conv4_block4_0_relu False\n",
      "164 conv4_block4_1_conv True\n",
      "165 conv4_block4_1_bn False\n",
      "166 conv4_block4_1_relu False\n",
      "167 conv4_block4_2_conv True\n",
      "168 conv4_block4_concat False\n",
      "169 conv4_block5_0_bn False\n",
      "170 conv4_block5_0_relu False\n",
      "171 conv4_block5_1_conv True\n",
      "172 conv4_block5_1_bn False\n",
      "173 conv4_block5_1_relu False\n",
      "174 conv4_block5_2_conv True\n",
      "175 conv4_block5_concat False\n",
      "176 conv4_block6_0_bn False\n",
      "177 conv4_block6_0_relu False\n",
      "178 conv4_block6_1_conv True\n",
      "179 conv4_block6_1_bn False\n",
      "180 conv4_block6_1_relu False\n",
      "181 conv4_block6_2_conv True\n",
      "182 conv4_block6_concat False\n",
      "183 conv4_block7_0_bn False\n",
      "184 conv4_block7_0_relu False\n",
      "185 conv4_block7_1_conv True\n",
      "186 conv4_block7_1_bn False\n",
      "187 conv4_block7_1_relu False\n",
      "188 conv4_block7_2_conv True\n",
      "189 conv4_block7_concat False\n",
      "190 conv4_block8_0_bn False\n",
      "191 conv4_block8_0_relu False\n",
      "192 conv4_block8_1_conv True\n",
      "193 conv4_block8_1_bn False\n",
      "194 conv4_block8_1_relu False\n",
      "195 conv4_block8_2_conv True\n",
      "196 conv4_block8_concat False\n",
      "197 conv4_block9_0_bn False\n",
      "198 conv4_block9_0_relu False\n",
      "199 conv4_block9_1_conv True\n",
      "200 conv4_block9_1_bn False\n",
      "201 conv4_block9_1_relu False\n",
      "202 conv4_block9_2_conv True\n",
      "203 conv4_block9_concat False\n",
      "204 conv4_block10_0_bn False\n",
      "205 conv4_block10_0_relu False\n",
      "206 conv4_block10_1_conv True\n",
      "207 conv4_block10_1_bn False\n",
      "208 conv4_block10_1_relu False\n",
      "209 conv4_block10_2_conv True\n",
      "210 conv4_block10_concat False\n",
      "211 conv4_block11_0_bn False\n",
      "212 conv4_block11_0_relu False\n",
      "213 conv4_block11_1_conv True\n",
      "214 conv4_block11_1_bn False\n",
      "215 conv4_block11_1_relu False\n",
      "216 conv4_block11_2_conv True\n",
      "217 conv4_block11_concat False\n",
      "218 conv4_block12_0_bn False\n",
      "219 conv4_block12_0_relu False\n",
      "220 conv4_block12_1_conv True\n",
      "221 conv4_block12_1_bn False\n",
      "222 conv4_block12_1_relu False\n",
      "223 conv4_block12_2_conv True\n",
      "224 conv4_block12_concat False\n",
      "225 conv4_block13_0_bn False\n",
      "226 conv4_block13_0_relu False\n",
      "227 conv4_block13_1_conv True\n",
      "228 conv4_block13_1_bn False\n",
      "229 conv4_block13_1_relu False\n",
      "230 conv4_block13_2_conv True\n",
      "231 conv4_block13_concat False\n",
      "232 conv4_block14_0_bn False\n",
      "233 conv4_block14_0_relu False\n",
      "234 conv4_block14_1_conv True\n",
      "235 conv4_block14_1_bn False\n",
      "236 conv4_block14_1_relu False\n",
      "237 conv4_block14_2_conv True\n",
      "238 conv4_block14_concat False\n",
      "239 conv4_block15_0_bn False\n",
      "240 conv4_block15_0_relu False\n",
      "241 conv4_block15_1_conv True\n",
      "242 conv4_block15_1_bn False\n",
      "243 conv4_block15_1_relu False\n",
      "244 conv4_block15_2_conv True\n",
      "245 conv4_block15_concat False\n",
      "246 conv4_block16_0_bn False\n",
      "247 conv4_block16_0_relu False\n",
      "248 conv4_block16_1_conv True\n",
      "249 conv4_block16_1_bn False\n",
      "250 conv4_block16_1_relu False\n",
      "251 conv4_block16_2_conv True\n",
      "252 conv4_block16_concat False\n",
      "253 conv4_block17_0_bn False\n",
      "254 conv4_block17_0_relu False\n",
      "255 conv4_block17_1_conv True\n",
      "256 conv4_block17_1_bn False\n",
      "257 conv4_block17_1_relu False\n",
      "258 conv4_block17_2_conv True\n",
      "259 conv4_block17_concat False\n",
      "260 conv4_block18_0_bn False\n",
      "261 conv4_block18_0_relu False\n",
      "262 conv4_block18_1_conv True\n",
      "263 conv4_block18_1_bn False\n",
      "264 conv4_block18_1_relu False\n",
      "265 conv4_block18_2_conv True\n",
      "266 conv4_block18_concat False\n",
      "267 conv4_block19_0_bn False\n",
      "268 conv4_block19_0_relu False\n",
      "269 conv4_block19_1_conv True\n",
      "270 conv4_block19_1_bn False\n",
      "271 conv4_block19_1_relu False\n",
      "272 conv4_block19_2_conv True\n",
      "273 conv4_block19_concat False\n",
      "274 conv4_block20_0_bn False\n",
      "275 conv4_block20_0_relu False\n",
      "276 conv4_block20_1_conv True\n",
      "277 conv4_block20_1_bn False\n",
      "278 conv4_block20_1_relu False\n",
      "279 conv4_block20_2_conv True\n",
      "280 conv4_block20_concat False\n",
      "281 conv4_block21_0_bn False\n",
      "282 conv4_block21_0_relu False\n",
      "283 conv4_block21_1_conv True\n",
      "284 conv4_block21_1_bn False\n",
      "285 conv4_block21_1_relu False\n",
      "286 conv4_block21_2_conv True\n",
      "287 conv4_block21_concat False\n",
      "288 conv4_block22_0_bn False\n",
      "289 conv4_block22_0_relu False\n",
      "290 conv4_block22_1_conv True\n",
      "291 conv4_block22_1_bn False\n",
      "292 conv4_block22_1_relu False\n",
      "293 conv4_block22_2_conv True\n",
      "294 conv4_block22_concat False\n",
      "295 conv4_block23_0_bn False\n",
      "296 conv4_block23_0_relu False\n",
      "297 conv4_block23_1_conv True\n",
      "298 conv4_block23_1_bn False\n",
      "299 conv4_block23_1_relu False\n",
      "300 conv4_block23_2_conv True\n",
      "301 conv4_block23_concat False\n",
      "302 conv4_block24_0_bn False\n",
      "303 conv4_block24_0_relu False\n",
      "304 conv4_block24_1_conv True\n",
      "305 conv4_block24_1_bn False\n",
      "306 conv4_block24_1_relu False\n",
      "307 conv4_block24_2_conv True\n",
      "308 conv4_block24_concat False\n",
      "309 pool4_bn False\n",
      "310 pool4_relu False\n",
      "311 pool4_conv True\n",
      "312 pool4_pool False\n",
      "313 conv5_block1_0_bn False\n",
      "314 conv5_block1_0_relu False\n",
      "315 conv5_block1_1_conv True\n",
      "316 conv5_block1_1_bn False\n",
      "317 conv5_block1_1_relu False\n",
      "318 conv5_block1_2_conv True\n",
      "319 conv5_block1_concat False\n",
      "320 conv5_block2_0_bn False\n",
      "321 conv5_block2_0_relu False\n",
      "322 conv5_block2_1_conv True\n",
      "323 conv5_block2_1_bn False\n",
      "324 conv5_block2_1_relu False\n",
      "325 conv5_block2_2_conv True\n",
      "326 conv5_block2_concat False\n",
      "327 conv5_block3_0_bn False\n",
      "328 conv5_block3_0_relu False\n",
      "329 conv5_block3_1_conv True\n",
      "330 conv5_block3_1_bn False\n",
      "331 conv5_block3_1_relu False\n",
      "332 conv5_block3_2_conv True\n",
      "333 conv5_block3_concat False\n",
      "334 conv5_block4_0_bn False\n",
      "335 conv5_block4_0_relu False\n",
      "336 conv5_block4_1_conv True\n",
      "337 conv5_block4_1_bn False\n",
      "338 conv5_block4_1_relu False\n",
      "339 conv5_block4_2_conv True\n",
      "340 conv5_block4_concat False\n",
      "341 conv5_block5_0_bn False\n",
      "342 conv5_block5_0_relu False\n",
      "343 conv5_block5_1_conv True\n",
      "344 conv5_block5_1_bn False\n",
      "345 conv5_block5_1_relu False\n",
      "346 conv5_block5_2_conv True\n",
      "347 conv5_block5_concat False\n",
      "348 conv5_block6_0_bn False\n",
      "349 conv5_block6_0_relu False\n",
      "350 conv5_block6_1_conv True\n",
      "351 conv5_block6_1_bn False\n",
      "352 conv5_block6_1_relu False\n",
      "353 conv5_block6_2_conv True\n",
      "354 conv5_block6_concat False\n",
      "355 conv5_block7_0_bn False\n",
      "356 conv5_block7_0_relu False\n",
      "357 conv5_block7_1_conv True\n",
      "358 conv5_block7_1_bn False\n",
      "359 conv5_block7_1_relu False\n",
      "360 conv5_block7_2_conv True\n",
      "361 conv5_block7_concat False\n",
      "362 conv5_block8_0_bn False\n",
      "363 conv5_block8_0_relu False\n",
      "364 conv5_block8_1_conv True\n",
      "365 conv5_block8_1_bn False\n",
      "366 conv5_block8_1_relu False\n",
      "367 conv5_block8_2_conv True\n",
      "368 conv5_block8_concat False\n",
      "369 conv5_block9_0_bn False\n",
      "370 conv5_block9_0_relu False\n",
      "371 conv5_block9_1_conv True\n",
      "372 conv5_block9_1_bn False\n",
      "373 conv5_block9_1_relu False\n",
      "374 conv5_block9_2_conv True\n",
      "375 conv5_block9_concat False\n",
      "376 conv5_block10_0_bn False\n",
      "377 conv5_block10_0_relu False\n",
      "378 conv5_block10_1_conv True\n",
      "379 conv5_block10_1_bn False\n",
      "380 conv5_block10_1_relu False\n",
      "381 conv5_block10_2_conv True\n",
      "382 conv5_block10_concat False\n",
      "383 conv5_block11_0_bn False\n",
      "384 conv5_block11_0_relu False\n",
      "385 conv5_block11_1_conv True\n",
      "386 conv5_block11_1_bn False\n",
      "387 conv5_block11_1_relu False\n",
      "388 conv5_block11_2_conv True\n",
      "389 conv5_block11_concat False\n",
      "390 conv5_block12_0_bn False\n",
      "391 conv5_block12_0_relu False\n",
      "392 conv5_block12_1_conv True\n",
      "393 conv5_block12_1_bn False\n",
      "394 conv5_block12_1_relu False\n",
      "395 conv5_block12_2_conv True\n",
      "396 conv5_block12_concat False\n",
      "397 conv5_block13_0_bn False\n",
      "398 conv5_block13_0_relu False\n",
      "399 conv5_block13_1_conv True\n",
      "400 conv5_block13_1_bn False\n",
      "401 conv5_block13_1_relu False\n",
      "402 conv5_block13_2_conv True\n",
      "403 conv5_block13_concat False\n",
      "404 conv5_block14_0_bn False\n",
      "405 conv5_block14_0_relu False\n",
      "406 conv5_block14_1_conv True\n",
      "407 conv5_block14_1_bn False\n",
      "408 conv5_block14_1_relu False\n",
      "409 conv5_block14_2_conv True\n",
      "410 conv5_block14_concat False\n",
      "411 conv5_block15_0_bn False\n",
      "412 conv5_block15_0_relu False\n",
      "413 conv5_block15_1_conv True\n",
      "414 conv5_block15_1_bn False\n",
      "415 conv5_block15_1_relu False\n",
      "416 conv5_block15_2_conv True\n",
      "417 conv5_block15_concat False\n",
      "418 conv5_block16_0_bn False\n",
      "419 conv5_block16_0_relu False\n",
      "420 conv5_block16_1_conv True\n",
      "421 conv5_block16_1_bn False\n",
      "422 conv5_block16_1_relu False\n",
      "423 conv5_block16_2_conv True\n",
      "424 conv5_block16_concat False\n",
      "425 bn False\n",
      "426 relu False\n"
     ]
    }
   ],
   "source": [
    "# Set the number of layers to freeze\n",
    "N = 100\n",
    "\n",
    "# Set the first N layers as non-trainable\n",
    "for i, layer in enumerate(ft_model.get_layer('densenet121').layers[:N]):\n",
    "    layer.trainable = False\n",
    "\n",
    "# Print layer indices, names, and trainability status\n",
    "for i, layer in enumerate(ft_model.get_layer('densenet121').layers):\n",
    "    print(i, layer.name, layer.trainable)\n",
    "\n",
    "# Display a summary of the model architecture\n",
    "#ft_model.summary(expand_nested=True)"
   ]
  },
  {
   "cell_type": "code",
   "execution_count": 21,
   "metadata": {},
   "outputs": [],
   "source": [
    "# Lowering the learning rate for fine-tuning\n",
    "ft_model.compile(loss=tfk.losses.CategoricalCrossentropy(), optimizer=tfk.optimizers.AdamW(learning_rate=0.0001, weight_decay=1e-5), metrics=['accuracy'])\n",
    "\n",
    "early_stopping = tfk.callbacks.EarlyStopping(\n",
    "    monitor='val_accuracy',\n",
    "    mode='max',\n",
    "    patience=4,\n",
    "    restore_best_weights=True\n",
    ")\n",
    "\n",
    "reduce_lr_on_plateau = tfk.callbacks.ReduceLROnPlateau(\n",
    "    monitor='val_loss',\n",
    "    factor=0.1,\n",
    "    patience=3\n",
    ")\n",
    "\n",
    "callbacks = [early_stopping, reduce_lr_on_plateau]"
   ]
  },
  {
   "cell_type": "code",
   "execution_count": 22,
   "metadata": {},
   "outputs": [
    {
     "name": "stdout",
     "output_type": "stream",
     "text": [
      "Epoch 1/20\n",
      "\u001b[1m1530/1530\u001b[0m \u001b[32m━━━━━━━━━━━━━━━━━━━━\u001b[0m\u001b[37m\u001b[0m \u001b[1m738s\u001b[0m 471ms/step - accuracy: 0.7540 - loss: 0.7186 - val_accuracy: 0.9313 - val_loss: 0.2077 - learning_rate: 1.0000e-04\n",
      "Epoch 2/20\n",
      "\u001b[1m1530/1530\u001b[0m \u001b[32m━━━━━━━━━━━━━━━━━━━━\u001b[0m\u001b[37m\u001b[0m \u001b[1m865s\u001b[0m 565ms/step - accuracy: 0.8844 - loss: 0.3545 - val_accuracy: 0.9423 - val_loss: 0.1759 - learning_rate: 1.0000e-04\n",
      "Epoch 3/20\n",
      "\u001b[1m1530/1530\u001b[0m \u001b[32m━━━━━━━━━━━━━━━━━━━━\u001b[0m\u001b[37m\u001b[0m \u001b[1m763s\u001b[0m 499ms/step - accuracy: 0.9072 - loss: 0.2824 - val_accuracy: 0.9492 - val_loss: 0.1594 - learning_rate: 1.0000e-04\n",
      "Epoch 4/20\n",
      "\u001b[1m1530/1530\u001b[0m \u001b[32m━━━━━━━━━━━━━━━━━━━━\u001b[0m\u001b[37m\u001b[0m \u001b[1m692s\u001b[0m 452ms/step - accuracy: 0.9183 - loss: 0.2458 - val_accuracy: 0.9404 - val_loss: 0.1837 - learning_rate: 1.0000e-04\n",
      "Epoch 5/20\n",
      "\u001b[1m1530/1530\u001b[0m \u001b[32m━━━━━━━━━━━━━━━━━━━━\u001b[0m\u001b[37m\u001b[0m \u001b[1m677s\u001b[0m 443ms/step - accuracy: 0.9246 - loss: 0.2298 - val_accuracy: 0.9514 - val_loss: 0.1381 - learning_rate: 1.0000e-04\n",
      "Epoch 6/20\n",
      "\u001b[1m1530/1530\u001b[0m \u001b[32m━━━━━━━━━━━━━━━━━━━━\u001b[0m\u001b[37m\u001b[0m \u001b[1m667s\u001b[0m 436ms/step - accuracy: 0.9299 - loss: 0.2106 - val_accuracy: 0.9568 - val_loss: 0.1346 - learning_rate: 1.0000e-04\n",
      "Epoch 7/20\n",
      "\u001b[1m1530/1530\u001b[0m \u001b[32m━━━━━━━━━━━━━━━━━━━━\u001b[0m\u001b[37m\u001b[0m \u001b[1m670s\u001b[0m 438ms/step - accuracy: 0.9392 - loss: 0.1843 - val_accuracy: 0.9533 - val_loss: 0.1492 - learning_rate: 1.0000e-04\n",
      "Epoch 8/20\n",
      "\u001b[1m1530/1530\u001b[0m \u001b[32m━━━━━━━━━━━━━━━━━━━━\u001b[0m\u001b[37m\u001b[0m \u001b[1m674s\u001b[0m 440ms/step - accuracy: 0.9437 - loss: 0.1676 - val_accuracy: 0.9630 - val_loss: 0.1184 - learning_rate: 1.0000e-04\n",
      "Epoch 9/20\n",
      "\u001b[1m1530/1530\u001b[0m \u001b[32m━━━━━━━━━━━━━━━━━━━━\u001b[0m\u001b[37m\u001b[0m \u001b[1m664s\u001b[0m 434ms/step - accuracy: 0.9469 - loss: 0.1606 - val_accuracy: 0.9590 - val_loss: 0.1232 - learning_rate: 1.0000e-04\n",
      "Epoch 10/20\n",
      "\u001b[1m1530/1530\u001b[0m \u001b[32m━━━━━━━━━━━━━━━━━━━━\u001b[0m\u001b[37m\u001b[0m \u001b[1m666s\u001b[0m 436ms/step - accuracy: 0.9502 - loss: 0.1495 - val_accuracy: 0.9561 - val_loss: 0.1344 - learning_rate: 1.0000e-04\n",
      "Epoch 11/20\n",
      "\u001b[1m1530/1530\u001b[0m \u001b[32m━━━━━━━━━━━━━━━━━━━━\u001b[0m\u001b[37m\u001b[0m \u001b[1m666s\u001b[0m 435ms/step - accuracy: 0.9537 - loss: 0.1398 - val_accuracy: 0.9676 - val_loss: 0.1074 - learning_rate: 1.0000e-04\n",
      "Epoch 12/20\n",
      "\u001b[1m1530/1530\u001b[0m \u001b[32m━━━━━━━━━━━━━━━━━━━━\u001b[0m\u001b[37m\u001b[0m \u001b[1m663s\u001b[0m 434ms/step - accuracy: 0.9541 - loss: 0.1348 - val_accuracy: 0.9537 - val_loss: 0.1466 - learning_rate: 1.0000e-04\n",
      "Epoch 13/20\n",
      "\u001b[1m1530/1530\u001b[0m \u001b[32m━━━━━━━━━━━━━━━━━━━━\u001b[0m\u001b[37m\u001b[0m \u001b[1m658s\u001b[0m 430ms/step - accuracy: 0.9553 - loss: 0.1314 - val_accuracy: 0.9671 - val_loss: 0.1092 - learning_rate: 1.0000e-04\n",
      "Epoch 14/20\n",
      "\u001b[1m1530/1530\u001b[0m \u001b[32m━━━━━━━━━━━━━━━━━━━━\u001b[0m\u001b[37m\u001b[0m \u001b[1m653s\u001b[0m 427ms/step - accuracy: 0.9587 - loss: 0.1250 - val_accuracy: 0.9659 - val_loss: 0.1094 - learning_rate: 1.0000e-04\n",
      "Epoch 15/20\n",
      "\u001b[1m1530/1530\u001b[0m \u001b[32m━━━━━━━━━━━━━━━━━━━━\u001b[0m\u001b[37m\u001b[0m \u001b[1m664s\u001b[0m 434ms/step - accuracy: 0.9701 - loss: 0.0862 - val_accuracy: 0.9728 - val_loss: 0.0930 - learning_rate: 1.0000e-05\n",
      "Epoch 16/20\n",
      "\u001b[1m1530/1530\u001b[0m \u001b[32m━━━━━━━━━━━━━━━━━━━━\u001b[0m\u001b[37m\u001b[0m \u001b[1m661s\u001b[0m 432ms/step - accuracy: 0.9779 - loss: 0.0691 - val_accuracy: 0.9731 - val_loss: 0.0968 - learning_rate: 1.0000e-05\n",
      "Epoch 17/20\n",
      "\u001b[1m1530/1530\u001b[0m \u001b[32m━━━━━━━━━━━━━━━━━━━━\u001b[0m\u001b[37m\u001b[0m \u001b[1m662s\u001b[0m 433ms/step - accuracy: 0.9774 - loss: 0.0670 - val_accuracy: 0.9771 - val_loss: 0.0882 - learning_rate: 1.0000e-05\n",
      "Epoch 18/20\n",
      "\u001b[1m1530/1530\u001b[0m \u001b[32m━━━━━━━━━━━━━━━━━━━━\u001b[0m\u001b[37m\u001b[0m \u001b[1m665s\u001b[0m 435ms/step - accuracy: 0.9804 - loss: 0.0612 - val_accuracy: 0.9752 - val_loss: 0.0955 - learning_rate: 1.0000e-05\n",
      "Epoch 19/20\n",
      "\u001b[1m1530/1530\u001b[0m \u001b[32m━━━━━━━━━━━━━━━━━━━━\u001b[0m\u001b[37m\u001b[0m \u001b[1m665s\u001b[0m 434ms/step - accuracy: 0.9799 - loss: 0.0607 - val_accuracy: 0.9757 - val_loss: 0.0876 - learning_rate: 1.0000e-05\n",
      "Epoch 20/20\n",
      "\u001b[1m1530/1530\u001b[0m \u001b[32m━━━━━━━━━━━━━━━━━━━━\u001b[0m\u001b[37m\u001b[0m \u001b[1m657s\u001b[0m 430ms/step - accuracy: 0.9807 - loss: 0.0584 - val_accuracy: 0.9757 - val_loss: 0.0875 - learning_rate: 1.0000e-05\n",
      "Final validation accuracy: 97.71%\n"
     ]
    }
   ],
   "source": [
    "# Fine-tune the model\n",
    "ft_history = ft_model.fit(\n",
    "    train_generator, \n",
    "    batch_size = 64,\n",
    "    epochs = 20,\n",
    "    validation_data = (val_augmented, y_val),\n",
    "    callbacks = callbacks\n",
    ").history\n",
    "\n",
    "# Calculate and print the final validation accuracy\n",
    "final_val_accuracy = round(max(ft_history['val_accuracy'])* 100, 2)\n",
    "print(f'Final validation accuracy: {final_val_accuracy}%')\n",
    "\n",
    "# Save the trained model to a file with the accuracy included in the filename\n",
    "model_filename = 'weights.keras'\n",
    "ft_model.save(model_filename)\n",
    "\n",
    "# Delete the model to free up resources\n",
    "del ft_model"
   ]
  },
  {
   "cell_type": "markdown",
   "metadata": {
    "id": "FSliIxBvbs2Q"
   },
   "source": [
    "## Evaluate and save the model"
   ]
  },
  {
   "cell_type": "code",
   "execution_count": 23,
   "metadata": {
    "colab": {
     "background_save": true,
     "base_uri": "https://localhost:8080/"
    },
    "id": "-8exErcE-rin"
   },
   "outputs": [
    {
     "name": "stdout",
     "output_type": "stream",
     "text": [
      "\u001b[1m132/132\u001b[0m \u001b[32m━━━━━━━━━━━━━━━━━━━━\u001b[0m\u001b[37m\u001b[0m \u001b[1m37s\u001b[0m 263ms/step\n"
     ]
    },
    {
     "data": {
      "image/png": "[encoded data removed]",
      "text/plain": [
       "<Figure size 1000x800 with 2 Axes>"
      ]
     },
     "metadata": {},
     "output_type": "display_data"
    }
   ],
   "source": [
    "# Load the saved model\n",
    "model = tfk.models.load_model(model_filename)\n",
    "\n",
    "# Compute the confusion matrix\n",
    "predictions = model.predict(val_augmented)\n",
    "pred_classes = np.argmax(predictions, axis=-1)\n",
    "true_classes = np.argmax(y_val, axis=-1)\n",
    "cm = confusion_matrix(true_classes, pred_classes)\n",
    "\n",
    "# Plot the confusion matrix\n",
    "plt.figure(figsize=(10,8))\n",
    "sns.heatmap(cm.T, annot=True, fmt='', xticklabels=unique_labels, yticklabels=unique_labels, cmap='Blues')\n",
    "plt.xlabel('True labels')\n",
    "plt.ylabel('Predicted labels')\n",
    "plt.show()"
   ]
  },
  {
   "cell_type": "code",
   "execution_count": 24,
   "metadata": {
    "colab": {
     "background_save": true,
     "base_uri": "https://localhost:8080/"
    },
    "id": "n3LrBOUIBQcg"
   },
   "outputs": [
    {
     "data": {
      "image/png": "[encoded data removed]",
      "text/plain": [
       "<Figure size 1500x500 with 1 Axes>"
      ]
     },
     "metadata": {},
     "output_type": "display_data"
    },
    {
     "data": {
      "image/png": "[encoded data removed]",
      "text/plain": [
       "<Figure size 1500x500 with 1 Axes>"
      ]
     },
     "metadata": {},
     "output_type": "display_data"
    }
   ],
   "source": [
    "# Plot the loss and accuracy metrics\n",
    "plt.figure(figsize=(15,5))\n",
    "plt.plot(tl_history['loss'], label='Training set', alpha=.3, color='green', linestyle='--')\n",
    "plt.plot(tl_history['val_loss'], label='Validation set', alpha=.8, color='blue')\n",
    "plt.legend(loc='upper left')\n",
    "plt.title('Categorical Crossentropy')\n",
    "plt.grid(alpha=.3)\n",
    "\n",
    "plt.figure(figsize=(15,5))\n",
    "plt.plot(tl_history['accuracy'], label='Training set', alpha=.3, color='green', linestyle='--')\n",
    "plt.plot(tl_history['val_accuracy'], label='Validation set', alpha=.8, color='blue')\n",
    "plt.legend(loc='upper left')\n",
    "plt.title('Accuracy')\n",
    "plt.grid(alpha=.3)\n",
    "\n",
    "plt.show()"
   ]
  },
  {
   "cell_type": "markdown",
   "metadata": {
    "id": "RNp6pUZuddqC"
   },
   "source": [
    "## 📊 Prepare Your Submission\n",
    "\n",
    "To prepare your submission, create a `.zip` file that includes all the necessary code to run your model. It **must** include a `model.py` file with the following class:\n",
    "\n",
    "```python\n",
    "# file: model.py\n",
    "class Model:\n",
    "    def __init__(self):\n",
    "        \"\"\"Initialize the internal state of the model.\"\"\"\n",
    "\n",
    "    def predict(self, X):\n",
    "        \"\"\"Return a numpy array with the labels corresponding to the input X.\"\"\"\n",
    "```\n"
   ]
  },
  {
   "cell_type": "code",
   "execution_count": 25,
   "metadata": {
    "colab": {
     "background_save": true,
     "base_uri": "https://localhost:8080/"
    },
    "id": "RKT4h-9xYwiT"
   },
   "outputs": [
    {
     "name": "stdout",
     "output_type": "stream",
     "text": [
      "Overwriting model.py\n"
     ]
    }
   ],
   "source": [
    "%%writefile model.py\n",
    "import numpy as np\n",
    "\n",
    "import tensorflow as tf\n",
    "from tensorflow import keras as tfk\n",
    "from tensorflow.keras import layers as tfkl\n",
    "\n",
    "class Model:\n",
    "    def __init__(self):\n",
    "        \"\"\"\n",
    "        Initialize the internal state of the model. Note that the __init__\n",
    "        method cannot accept any arguments.\n",
    "\n",
    "        The following is an example loading the weights of a pre-trained\n",
    "        model.\n",
    "        \"\"\"\n",
    "        self.neural_network = tfk.models.load_model('weights.keras')\n",
    "\n",
    "    def predict(self, X):\n",
    "        \"\"\"\n",
    "        Predict the labels corresponding to the input X. Note that X is a numpy\n",
    "        array of shape (n_samples, 96, 96, 3) and the output should be a numpy\n",
    "        array of shape (n_samples,). Therefore, outputs must no be one-hot\n",
    "        encoded.\n",
    "\n",
    "        The following is an example of a prediction from the pre-trained model\n",
    "        loaded in the __init__ method.\n",
    "        \"\"\"\n",
    "        X = X / 255.0\n",
    "        preds = self.neural_network.predict(X)\n",
    "        if len(preds.shape) == 2:\n",
    "            preds = np.argmax(preds, axis=1)\n",
    "        return preds"
   ]
  },
  {
   "cell_type": "code",
   "execution_count": 26,
   "metadata": {},
   "outputs": [
    {
     "name": "stdout",
     "output_type": "stream",
     "text": [
      "sub.zip has been created successfully.\n"
     ]
    }
   ],
   "source": [
    "# Create the .zip file to be submitted\n",
    "import os\n",
    "import zipfile\n",
    "\n",
    "# Check if model.py and weights.keras exist\n",
    "if os.path.exists(\"model.py\") and os.path.exists(\"weights.keras\"):\n",
    "    # Create a ZIP file containing model.py and weights.keras\n",
    "    with zipfile.ZipFile(\"sub.zip\", \"w\") as model_zip:\n",
    "        model_zip.write(\"model.py\")\n",
    "        model_zip.write(\"weights.keras\")\n",
    "    print(\"sub.zip has been created successfully.\")\n",
    "else:\n",
    "    print(\"model.py or weights.keras not found. Please ensure both files are in the current directory.\")"
   ]
  }
 ],
 "metadata": {
  "accelerator": "GPU",
  "colab": {
   "collapsed_sections": [
    "GN_cpHlSboXV",
    "RNp6pUZuddqC"
   ],
   "gpuType": "T4",
   "name": "",
   "toc_visible": true,
   "version": ""
  },
  "kernelspec": {
   "display_name": ".venv",
   "language": "python",
   "name": "python3"
  },
  "language_info": {
   "codemirror_mode": {
    "name": "ipython",
    "version": 3
   },
   "file_extension": ".py",
   "mimetype": "text/x-python",
   "name": "python",
   "nbconvert_exporter": "python",
   "pygments_lexer": "ipython3",
   "version": "3.12.7"
  }
 },
 "nbformat": 4,
 "nbformat_minor": 0
}
